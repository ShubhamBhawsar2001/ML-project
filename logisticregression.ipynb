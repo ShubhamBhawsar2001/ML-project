{
  "nbformat": 4,
  "nbformat_minor": 0,
  "metadata": {
    "colab": {
      "provenance": [],
      "toc_visible": true,
      "mount_file_id": "12tqkIW7C9YgvSCbeirnPPFK4rrgQWIGI",
      "authorship_tag": "ABX9TyMr0d32/O37VfFCUG0AxaCj",
      "include_colab_link": true
    },
    "kernelspec": {
      "name": "python3",
      "display_name": "Python 3"
    },
    "language_info": {
      "name": "python"
    }
  },
  "cells": [
    {
      "cell_type": "markdown",
      "metadata": {
        "id": "view-in-github",
        "colab_type": "text"
      },
      "source": [
        "<a href=\"https://colab.research.google.com/github/ShubhamBhawsar2001/ML-project/blob/main/logisticregression.ipynb\" target=\"_parent\"><img src=\"https://colab.research.google.com/assets/colab-badge.svg\" alt=\"Open In Colab\"/></a>"
      ]
    },
    {
      "cell_type": "code",
      "execution_count": 16,
      "metadata": {
        "id": "Nqln_e1111NN"
      },
      "outputs": [],
      "source": [
        "import pandas as pd\n",
        "import numpy as np\n",
        "import seaborn as sns\n",
        "import matplotlib.pyplot as plt\n",
        "import random\n",
        "from numpy import linalg as LA\n",
        "from numpy import save\n",
        "from numpy import load\n",
        "import math\n",
        "from sklearn import preprocessing\n",
        "import pandas as pd"
      ]
    },
    {
      "cell_type": "code",
      "source": [
        "from google.colab import drive\n",
        "drive.mount('/content/drive')"
      ],
      "metadata": {
        "colab": {
          "base_uri": "https://localhost:8080/"
        },
        "id": "nEfH47Zm24iL",
        "outputId": "9a03151f-8903-4b76-f4d5-be8a5f20ba71"
      },
      "execution_count": 3,
      "outputs": [
        {
          "output_type": "stream",
          "name": "stdout",
          "text": [
            "Drive already mounted at /content/drive; to attempt to forcibly remount, call drive.mount(\"/content/drive\", force_remount=True).\n"
          ]
        }
      ]
    },
    {
      "cell_type": "code",
      "source": [
        "data=pd.read_csv(\"/content/drive/MyDrive/Colab Notebooks/ml/Diabetes.csv\")\n",
        "\n",
        "names = data.iloc[:,0:8].columns\n",
        "out=data.iloc[:,8:9]\n",
        "#normalize the given data\n",
        "data=preprocessing.normalize(data.iloc[:,0:8])\n",
        "data = pd.DataFrame(data,columns=names)\n",
        "data['outcome']=out\n",
        "print(data)\n",
        "x=data.iloc[:,0:8]\n",
        "x['b']=1\n",
        "\n",
        "\n"
      ],
      "metadata": {
        "colab": {
          "base_uri": "https://localhost:8080/"
        },
        "id": "0nDhjYdR2_89",
        "outputId": "b0165ab2-2fe2-4c8b-fcbc-f209c9ea566e"
      },
      "execution_count": 99,
      "outputs": [
        {
          "output_type": "stream",
          "name": "stdout",
          "text": [
            "     Pregnancies   Glucose  BloodPressure  SkinThickness   Insulin       BMI  \\\n",
            "0       0.033552  0.827625       0.402628       0.195722  0.000000  0.187893   \n",
            "1       0.008424  0.716040       0.555984       0.244296  0.000000  0.224079   \n",
            "2       0.040398  0.924097       0.323181       0.000000  0.000000  0.117658   \n",
            "3       0.006612  0.588467       0.436392       0.152076  0.621527  0.185797   \n",
            "4       0.000000  0.596386       0.174127       0.152361  0.731335  0.187622   \n",
            "..           ...       ...            ...            ...       ...       ...   \n",
            "763     0.042321  0.427443       0.321640       0.203141  0.761779  0.139236   \n",
            "764     0.013304  0.811526       0.465629       0.179600  0.000000  0.244788   \n",
            "765     0.026915  0.651352       0.387582       0.123811  0.602905  0.141037   \n",
            "766     0.006653  0.838285       0.399184       0.000000  0.000000  0.200257   \n",
            "767     0.007915  0.736052       0.554018       0.245351  0.000000  0.240602   \n",
            "\n",
            "     DiabetesPedigreeFunction       Age  outcome  \n",
            "0                    0.003506  0.279603        1  \n",
            "1                    0.002957  0.261144        0  \n",
            "2                    0.003393  0.161591        1  \n",
            "3                    0.001104  0.138852        0  \n",
            "4                    0.009960  0.143655        1  \n",
            "..                        ...       ...      ...  \n",
            "763                  0.000724  0.266623        0  \n",
            "764                  0.002262  0.179600        0  \n",
            "765                  0.001319  0.161492        0  \n",
            "766                  0.002322  0.312694        1  \n",
            "767                  0.002493  0.182034        0  \n",
            "\n",
            "[768 rows x 9 columns]\n"
          ]
        }
      ]
    },
    {
      "cell_type": "code",
      "source": [
        "\n",
        "n=len(data)\n",
        "#number of training data\n",
        "n_train=math.ceil(n*0.8)\n",
        "x_train=x.iloc[0:n_train,:]\n",
        "y_train=out.iloc[0:n_train]\n",
        "#test data\n",
        "n_test=n-n_train\n",
        "x_test=x.iloc[n_train:n,:]\n",
        "y_test=out.iloc[n_train:n]\n",
        "\n",
        "\n",
        "print (f\"X_train: {x_train.shape}, y_train: {y_train.shape}\")\n",
        "\n",
        "print (f\"X_test: {x_test.shape}, y_test: {y_test.shape}\")"
      ],
      "metadata": {
        "colab": {
          "base_uri": "https://localhost:8080/"
        },
        "id": "gE-UPGFS3n-P",
        "outputId": "4498d03c-506c-426f-c233-97993dc24e99"
      },
      "execution_count": 100,
      "outputs": [
        {
          "output_type": "stream",
          "name": "stdout",
          "text": [
            "X_train: (615, 9), y_train: (615, 1)\n",
            "X_test: (153, 9), y_test: (153, 1)\n"
          ]
        }
      ]
    },
    {
      "cell_type": "markdown",
      "source": [
        "# sigmoid **function** "
      ],
      "metadata": {
        "id": "FoPpgxl8te0B"
      }
    },
    {
      "cell_type": "code",
      "source": [
        "def sigmoid(x):\n",
        "  return 1/(1+np.exp(-x))"
      ],
      "metadata": {
        "id": "H_a3I_eh56ar"
      },
      "execution_count": 101,
      "outputs": []
    },
    {
      "cell_type": "markdown",
      "source": [
        "# **loss function**\n",
        "here we use log loss function\n",
        "j(hw(x),y)=-sigma[ y*log{hw(x)} + (1-y)*log{1-hw(x)} ]\n",
        "\n",
        "\n",
        "here y_hat is hw(x)"
      ],
      "metadata": {
        "id": "fquh7qKltlsB"
      }
    },
    {
      "cell_type": "code",
      "source": [
        "def lossfind(y,y_hat):\n",
        "  return -np.mean(y*np.log(y_hat)+(1-y)*np.log(1-y_hat))\n",
        "print(y_train)"
      ],
      "metadata": {
        "id": "0hc3xwyd7SCe",
        "colab": {
          "base_uri": "https://localhost:8080/"
        },
        "outputId": "cbae843f-acc2-4f5c-820a-175c06095e79"
      },
      "execution_count": 102,
      "outputs": [
        {
          "output_type": "stream",
          "name": "stdout",
          "text": [
            "     Outcome\n",
            "0          1\n",
            "1          0\n",
            "2          1\n",
            "3          0\n",
            "4          1\n",
            "..       ...\n",
            "610        0\n",
            "611        1\n",
            "612        1\n",
            "613        0\n",
            "614        1\n",
            "\n",
            "[615 rows x 1 columns]\n"
          ]
        }
      ]
    },
    {
      "cell_type": "code",
      "source": [
        "\"\"\"\n",
        "m=len(x_train)\n",
        "alpha=0.0001\n",
        "lembda=10\n",
        "n_col=len(x_train.columns)\n",
        "w=np.random.randn(n_col,1)\n",
        "y_pred=np.dot(x_train,w)\n",
        "\n",
        "y_hat=sigmoid(y_pred)\n",
        "\n",
        "\n",
        "tmo=np.log(y_hat)\n",
        "df = pd.DataFrame(tmo, columns = ['np.log(y_hat)'])\n",
        "df['hat']=y_hat\n",
        "df['y']=y_train\n",
        "df['np.log(1-y_hat)']=np.log(1-y_hat)\n",
        "\n",
        "df['1-y']=1-y_train\n",
        "loss=lossfind(y_train,y_hat)\n",
        "print(loss)\n",
        "df.head(500)\n",
        "\"\"\""
      ],
      "metadata": {
        "id": "wcl1i6o28b8T",
        "colab": {
          "base_uri": "https://localhost:8080/",
          "height": 105
        },
        "outputId": "03286d2e-a420-4921-f664-f299f6e6546a"
      },
      "execution_count": 103,
      "outputs": [
        {
          "output_type": "execute_result",
          "data": {
            "text/plain": [
              "\"\\nm=len(x_train)\\nalpha=0.0001\\nlembda=10\\nn_col=len(x_train.columns)\\nw=np.random.randn(n_col,1)\\ny_pred=np.dot(x_train,w)\\n\\ny_hat=sigmoid(y_pred)\\n\\n\\ntmo=np.log(y_hat)\\ndf = pd.DataFrame(tmo, columns = ['np.log(y_hat)'])\\ndf['hat']=y_hat\\ndf['y']=y_train\\ndf['np.log(1-y_hat)']=np.log(1-y_hat)\\n\\ndf['1-y']=1-y_train\\nloss=lossfind(y_train,y_hat)\\nprint(loss)\\ndf.head(500)\\n\""
            ],
            "application/vnd.google.colaboratory.intrinsic+json": {
              "type": "string"
            }
          },
          "metadata": {},
          "execution_count": 103
        }
      ]
    },
    {
      "cell_type": "markdown",
      "source": [
        "#  using gradient decent to find opytimal value "
      ],
      "metadata": {
        "id": "P6XhbS3nvF9r"
      }
    },
    {
      "cell_type": "code",
      "source": [
        "itr=0\n",
        "m=len(x_train)\n",
        "alpha=0.8\n",
        "\n",
        "n_col=len(x_train.columns)\n",
        "w=np.random.randn(n_col,1)\n",
        "wlist=[]\n",
        "losslist=[]\n",
        "itrlist=[]\n",
        "while(itr!=200):\n",
        "  y_pred=np.dot(x_train,w)\n",
        "  y_hat=sigmoid(y_pred)\n",
        "  loss=lossfind(y_train,y_hat)\n",
        "  if itr==99:\n",
        "    print(f\"itr:{itr}, loss{loss}\")\n",
        "  \n",
        "  \n",
        "  \n",
        "  gw=(1/m)*np.dot(x_train.transpose(),(y_hat-y_train))\n",
        "  w=w-alpha*gw\n",
        "  wlist.append(w)\n",
        "  itrlist.append(itr)\n",
        "  losslist.append(loss)\n",
        "  itr=itr+1\n",
        "  \n",
        "\n",
        "print(w)"
      ],
      "metadata": {
        "id": "_x10prLi4-8l",
        "colab": {
          "base_uri": "https://localhost:8080/"
        },
        "outputId": "df814ed2-811b-47b3-ce40-9227d04dda19"
      },
      "execution_count": 105,
      "outputs": [
        {
          "output_type": "stream",
          "name": "stdout",
          "text": [
            "itr:99, lossOutcome    0.623928\n",
            "dtype: float64\n",
            "[[-0.73491539]\n",
            " [ 1.31450736]\n",
            " [-1.87333326]\n",
            " [-0.55369399]\n",
            " [ 0.53192156]\n",
            " [-0.35964559]\n",
            " [-0.22951134]\n",
            " [-0.02342903]\n",
            " [-0.82581786]]\n"
          ]
        }
      ]
    },
    {
      "cell_type": "markdown",
      "source": [
        "**Accuracy finding**"
      ],
      "metadata": {
        "id": "i-dPyUBFvhWH"
      }
    },
    {
      "cell_type": "code",
      "source": [
        "y_pred=np.dot(x_train,w)\n",
        "y_hat=sigmoid(y_pred)\n",
        "count=0\n",
        "\n",
        "for i in range (0,m):\n",
        "  if y_hat[i,0]>0.5 and y_train.iloc[i][0]==1:\n",
        "   count+=1\n",
        "  elif ( y_hat[i,0]<0.5 and y_train.iloc[i][0]==0):\n",
        "    count+=1\n",
        "accuracy=(count/m)*100\n",
        "print(accuracy)"
      ],
      "metadata": {
        "colab": {
          "base_uri": "https://localhost:8080/"
        },
        "id": "eZ8czpreEe4C",
        "outputId": "0d8f8b89-fe68-4495-b5e3-709d74e762a5"
      },
      "execution_count": 106,
      "outputs": [
        {
          "output_type": "stream",
          "name": "stdout",
          "text": [
            "64.8780487804878\n"
          ]
        }
      ]
    },
    {
      "cell_type": "code",
      "source": [
        "y_pred=np.dot(x_test,w)\n",
        "y_hat=sigmoid(y_pred)\n",
        "count=0\n",
        "m=len(x_test)\n",
        "for i in range (0,m):\n",
        "  if y_hat[i,0]>0.5 and y_train.iloc[i][0]==1:\n",
        "   count+=1\n",
        "  elif ( y_hat[i,0]<0.5 and y_train.iloc[i][0]==0):\n",
        "    count+=1\n",
        "accuracy=(count/m)*100\n",
        "print(accuracy)"
      ],
      "metadata": {
        "colab": {
          "base_uri": "https://localhost:8080/"
        },
        "id": "8FWTh1SGp39k",
        "outputId": "23b20dc7-24ea-4f32-f380-f7893f3e63bb"
      },
      "execution_count": 107,
      "outputs": [
        {
          "output_type": "stream",
          "name": "stdout",
          "text": [
            "64.05228758169935\n"
          ]
        }
      ]
    },
    {
      "cell_type": "markdown",
      "source": [
        "**plot of loss vs iteration**"
      ],
      "metadata": {
        "id": "VzRyfhaJvqkk"
      }
    },
    {
      "cell_type": "code",
      "source": [
        "plt.title(\"Loss curve\")\n",
        "plt.xlabel(\"Epochs\")\n",
        "plt.ylabel(\"Loss\")\n",
        "\n",
        "\n",
        "\n",
        "plt.plot(itrlist, losslist)\n",
        "plt.legend()\n",
        "plt.show()"
      ],
      "metadata": {
        "colab": {
          "base_uri": "https://localhost:8080/",
          "height": 312
        },
        "id": "6I0IFBp4qSyU",
        "outputId": "f99b9c07-ab25-408e-b864-814bdeb2b4d9"
      },
      "execution_count": 108,
      "outputs": [
        {
          "output_type": "stream",
          "name": "stderr",
          "text": [
            "WARNING:matplotlib.legend:No handles with labels found to put in legend.\n"
          ]
        },
        {
          "output_type": "display_data",
          "data": {
            "text/plain": [
              "<Figure size 432x288 with 1 Axes>"
            ],
            "image/png": "[encoded data removed]"
          },
          "metadata": {
            "needs_background": "light"
          }
        }
      ]
    }
  ]
}